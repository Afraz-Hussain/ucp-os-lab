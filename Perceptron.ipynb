{
 "cells": [
  {
   "cell_type": "code",
   "execution_count": 2,
   "id": "98aec489",
   "metadata": {},
   "outputs": [
    {
     "name": "stdout",
     "output_type": "stream",
     "text": [
      " Epoch 1: Mean Squared Error = 0.25\n",
      " Epoch 2: Mean Squared Error = 0.25\n",
      " Epoch 3: Mean Squared Error = 0.25\n",
      " Epoch 4: Mean Squared Error = 0.25\n",
      " Epoch 5: Mean Squared Error = 0.25\n",
      " Epoch 6: Mean Squared Error = 0.25\n",
      " Epoch 7: Mean Squared Error = 0.0\n",
      " Epoch 8: Mean Squared Error = 0.0\n",
      " Epoch 9: Mean Squared Error = 0.0\n",
      " Epoch 10: Mean Squared Error = 0.0\n"
     ]
    }
   ],
   "source": [
    "import numpy as np\n",
    "\n",
    "class Perceptron :\n",
    "    def __init__ (self, input_size, learning_rate = 0.01):\n",
    "        self.weights = np.random.rand(input_size)\n",
    "        self.bias = np.random.rand (1)\n",
    "        self.learning_rate = learning_rate\n",
    "        \n",
    "    def predict ( self , x ):\n",
    "        z = np.dot(x , self.weights ) + self.bias\n",
    "        return np.heaviside(z, 0)\n",
    "\n",
    "    def train(self, X, y, epochs):\n",
    "        for _ in range(epochs):\n",
    "            for i in range(len(X)):\n",
    "                prediction = self.predict(X[i])\n",
    "                error = y[i] - prediction\n",
    "                self.weights += self.learning_rate * error * X [i]\n",
    "                self.bias += self.learning_rate * error\n",
    "            mse = np.mean((y - self.predict(X))**2)\n",
    "            print ( f\" Epoch {_ + 1}: Mean Squared Error = {mse}\")\n",
    "# Example usage :\n",
    "X = np.array([[0, 0], [0, 1], [1, 0], [1, 1]])\n",
    "y = np.array([0, 1, 1, 1])\n",
    "perceptron = Perceptron(input_size = 2, learning_rate = 0.1)\n",
    "perceptron.train(X, y, epochs = 10)"
   ]
  },
  {
   "cell_type": "code",
   "execution_count": null,
   "id": "1605e823",
   "metadata": {},
   "outputs": [],
   "source": []
  },
  {
   "cell_type": "code",
   "execution_count": null,
   "id": "3cd71bf8",
   "metadata": {},
   "outputs": [],
   "source": []
  },
  {
   "cell_type": "code",
   "execution_count": null,
   "id": "cb80ffd6",
   "metadata": {},
   "outputs": [],
   "source": []
  },
  {
   "cell_type": "code",
   "execution_count": null,
   "id": "cc6b93b2",
   "metadata": {},
   "outputs": [],
   "source": []
  },
  {
   "cell_type": "code",
   "execution_count": null,
   "id": "9d6e8569",
   "metadata": {},
   "outputs": [],
   "source": []
  },
  {
   "cell_type": "code",
   "execution_count": null,
   "id": "b4067fb8",
   "metadata": {},
   "outputs": [],
   "source": []
  },
  {
   "cell_type": "code",
   "execution_count": null,
   "id": "35735183",
   "metadata": {},
   "outputs": [],
   "source": []
  },
  {
   "cell_type": "code",
   "execution_count": null,
   "id": "c3845adb",
   "metadata": {},
   "outputs": [],
   "source": []
  },
  {
   "cell_type": "code",
   "execution_count": null,
   "id": "802adb9f",
   "metadata": {},
   "outputs": [],
   "source": []
  }
 ],
 "metadata": {
  "kernelspec": {
   "display_name": "Python 3 (ipykernel)",
   "language": "python",
   "name": "python3"
  },
  "language_info": {
   "codemirror_mode": {
    "name": "ipython",
    "version": 3
   },
   "file_extension": ".py",
   "mimetype": "text/x-python",
   "name": "python",
   "nbconvert_exporter": "python",
   "pygments_lexer": "ipython3",
   "version": "3.11.7"
  }
 },
 "nbformat": 4,
 "nbformat_minor": 5
}

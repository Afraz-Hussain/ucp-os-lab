{
 "cells": [
  {
   "cell_type": "markdown",
   "id": "49322365",
   "metadata": {},
   "source": [
    "#### Dataset: We have a simple dataset with mixed features:\n",
    "Height (numerical)\n",
    "Gender (categorical)\n",
    "Weight (numerical)\n",
    "Age (numerical)"
   ]
  },
  {
   "cell_type": "code",
   "execution_count": 1,
   "id": "c0db6d9e",
   "metadata": {},
   "outputs": [
    {
     "name": "stdout",
     "output_type": "stream",
     "text": [
      "Query predicted class: Tall\n"
     ]
    }
   ],
   "source": [
    "import numpy as np\n",
    "from collections import Counter\n",
    "from sklearn.preprocessing import LabelEncoder\n",
    "\n",
    "class KNN:\n",
    "    def __init__(self, k=3):\n",
    "        self.k = k\n",
    "    \n",
    "    def fit(self, X, y):\n",
    "        self.X_train = X\n",
    "        self.y_train = y\n",
    "    \n",
    "    def euclidean_distance(self, x1, x2):\n",
    "        return np.sqrt(np.sum((x1 - x2)**2))\n",
    "    \n",
    "    def predict_single(self, query):\n",
    "        # Compute distances between query and all examples in the training set\n",
    "        distances = [self.euclidean_distance(query, x_train) for x_train in self.X_train]\n",
    "        \n",
    "        # Sort by distance and return indices of the first k neighbors\n",
    "        k_indices = np.argsort(distances)[:self.k]\n",
    "        \n",
    "        # Extract the labels of the k nearest neighbor training samples\n",
    "        k_nearest_labels = [self.y_train[i] for i in k_indices]\n",
    "        \n",
    "        # Perform majority vote, most common class label among the k neighbors\n",
    "        most_common = Counter(k_nearest_labels).most_common(1)\n",
    "        return most_common[0][0]\n",
    "\n",
    "# Example usage with a dataset\n",
    "if __name__ == \"__main__\":\n",
    "    # Sample dataset with mixed numerical and categorical features\n",
    "    X_train = np.array([[6, 'M', 180, 12], [5.5, 'F', 150, 8], [6.1, 'M', 190, 15],\n",
    "                        [5.9, 'F', 160, 10], [6.2, 'M', 175, 14], [5.8, 'F', 140, 9]])\n",
    "    y_train = np.array(['Tall', 'Short', 'Tall', 'Short', 'Tall', 'Short'])\n",
    "\n",
    "    X_test = np.array([[6, 'F', 155, 11], [5.7, 'M', 170, 13]])\n",
    "\n",
    "    # Initialize the KNN classifier\n",
    "    knn = KNN(k=3)\n",
    "    \n",
    "    # Encode categorical features in both X_train and X_test\n",
    "    label_encoders = []\n",
    "    for i in range(X_train.shape[1]):\n",
    "        if isinstance(X_train[0, i], str):\n",
    "            le = LabelEncoder()\n",
    "            combined_data = np.concatenate((X_train[:, i], X_test[:, i]), axis=0)\n",
    "            le.fit(combined_data)\n",
    "            X_train[:, i] = le.transform(X_train[:, i])\n",
    "            X_test[:, i] = le.transform(X_test[:, i])\n",
    "            label_encoders.append(le)\n",
    "    \n",
    "    # Fit the KNN model with the encoded training data\n",
    "    knn.fit(X_train.astype(float), y_train)\n",
    "\n",
    "    # Define a specific query\n",
    "    query = np.array([6, 'F', 155, 11])\n",
    "    \n",
    "    # Encode the query using the same label encoders\n",
    "    for i, le in enumerate(label_encoders):\n",
    "        if isinstance(query[i], str):\n",
    "            query[i] = le.transform([query[i]])[0]\n",
    "    \n",
    "    # Predict the label of the query\n",
    "    predicted_class = knn.predict_single(query.astype(float))\n",
    "\n",
    "    # Print result\n",
    "    print(f\"Query predicted class: {predicted_class}\")\n"
   ]
  },
  {
   "cell_type": "code",
   "execution_count": null,
   "id": "2d667615",
   "metadata": {},
   "outputs": [],
   "source": []
  }
 ],
 "metadata": {
  "kernelspec": {
   "display_name": "Python 3 (ipykernel)",
   "language": "python",
   "name": "python3"
  },
  "language_info": {
   "codemirror_mode": {
    "name": "ipython",
    "version": 3
   },
   "file_extension": ".py",
   "mimetype": "text/x-python",
   "name": "python",
   "nbconvert_exporter": "python",
   "pygments_lexer": "ipython3",
   "version": "3.11.7"
  }
 },
 "nbformat": 4,
 "nbformat_minor": 5
}

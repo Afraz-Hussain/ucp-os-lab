{
 "cells": [
  {
   "cell_type": "code",
   "execution_count": 1,
   "id": "55f8d96d",
   "metadata": {},
   "outputs": [
    {
     "name": "stdout",
     "output_type": "stream",
     "text": [
      "The result of alpha-beta pruning is: 5\n"
     ]
    }
   ],
   "source": [
    "import math\n",
    "\n",
    "# Define a simple game tree for demonstration purposes\n",
    "class GameState:\n",
    "    def __init__(self, value=None, children=None):\n",
    "        self.value = value\n",
    "        self.children = children or []\n",
    "\n",
    "# Alpha-beta pruning implementation\n",
    "def alpha_beta_pruning(node, depth, alpha, beta, maximizing_player):\n",
    "    if depth == 0 or not node.children:\n",
    "        return node.value\n",
    "\n",
    "    if maximizing_player:\n",
    "        max_eval = -math.inf\n",
    "        for child in node.children:\n",
    "            eval = alpha_beta_pruning(child, depth - 1, alpha, beta, False)\n",
    "            max_eval = max(max_eval, eval)\n",
    "            alpha = max(alpha, eval)\n",
    "            if beta <= alpha:\n",
    "                break  # Beta cutoff\n",
    "        return max_eval\n",
    "    else:\n",
    "        min_eval = math.inf\n",
    "        for child in node.children:\n",
    "            eval = alpha_beta_pruning(child, depth - 1, alpha, beta, True)\n",
    "            min_eval = min(min_eval, eval)\n",
    "            beta = min(beta, eval)\n",
    "            if beta <= alpha:\n",
    "                break  # Alpha cutoff\n",
    "        return min_eval\n",
    "\n",
    "# Example usage with a simple game tree\n",
    "if __name__ == \"__main__\":\n",
    "    # Create a sample game tree\n",
    "    leaf_nodes = [GameState(value) for value in [3, 5, 6, 9, 1, 2, 0, -1]]\n",
    "    level_2_nodes = [GameState(None, [leaf_nodes[i], leaf_nodes[i+1]]) for i in range(0, len(leaf_nodes), 2)]\n",
    "    level_1_nodes = [GameState(None, [level_2_nodes[i], level_2_nodes[i+1]]) for i in range(0, len(level_2_nodes), 2)]\n",
    "    root = GameState(None, level_1_nodes)\n",
    "\n",
    "    # Perform alpha-beta pruning\n",
    "    result = alpha_beta_pruning(root, 3, -math.inf, math.inf, True)\n",
    "    print(f\"The result of alpha-beta pruning is: {result}\")"
   ]
  },
  {
   "cell_type": "code",
   "execution_count": null,
   "id": "1d8e4fe8",
   "metadata": {},
   "outputs": [],
   "source": []
  }
 ],
 "metadata": {
  "kernelspec": {
   "display_name": "Python 3 (ipykernel)",
   "language": "python",
   "name": "python3"
  },
  "language_info": {
   "codemirror_mode": {
    "name": "ipython",
    "version": 3
   },
   "file_extension": ".py",
   "mimetype": "text/x-python",
   "name": "python",
   "nbconvert_exporter": "python",
   "pygments_lexer": "ipython3",
   "version": "3.7.1"
  }
 },
 "nbformat": 4,
 "nbformat_minor": 5
}
